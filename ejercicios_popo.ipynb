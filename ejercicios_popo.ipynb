{
 "cells": [
  {
   "cell_type": "markdown",
   "metadata": {},
   "source": [
    "### Write a python program to check if a list is empty or not "
   ]
  },
  {
   "cell_type": "code",
   "execution_count": 65,
   "metadata": {},
   "outputs": [
    {
     "name": "stdout",
     "output_type": "stream",
     "text": [
      "List is empty\n"
     ]
    }
   ],
   "source": [
    "lista_prueba = []\n",
    "if not lista_prueba:\n",
    "    print(\"List is empty\")\n",
    "else:\n",
    "    print(\"List have some data\")"
   ]
  },
  {
   "cell_type": "markdown",
   "metadata": {},
   "source": [
    "### Write a Python program to clone or copy a list.\n"
   ]
  },
  {
   "cell_type": "code",
   "execution_count": 66,
   "metadata": {},
   "outputs": [
    {
     "name": "stdout",
     "output_type": "stream",
     "text": [
      "['Aire', 'Tierra', 'Fuego', 'Agua']\n"
     ]
    }
   ],
   "source": [
    "una_lista = [\"Aire\", \"Tierra\", \"Fuego\", \"Agua\"]\n",
    "nueva_lista = list(una_lista)\n",
    "\n",
    "print(nueva_lista)\n"
   ]
  },
  {
   "cell_type": "markdown",
   "metadata": {},
   "source": [
    "### Write a Python program to find the list of words that are longer than n from a given list of words.\n"
   ]
  },
  {
   "cell_type": "code",
   "execution_count": 67,
   "metadata": {},
   "outputs": [],
   "source": [
    "def encontrar_mayores_n(lista_palabras,  n):\n",
    "    lista_mayores_n = []\n",
    "    for palabra in lista_palabras:\n",
    "        if len(palabra) > n:\n",
    "            lista_mayores_n.append(palabra)\n",
    "\n",
    "    return lista_mayores_n"
   ]
  },
  {
   "cell_type": "code",
   "execution_count": 68,
   "metadata": {},
   "outputs": [
    {
     "name": "stdout",
     "output_type": "stream",
     "text": [
      "['Almendra', 'Pescado Rabioso', 'Kylito Rabioso']\n"
     ]
    }
   ],
   "source": [
    "input_lista =  [\"Kylo\", \"Popo\", \"Almendra\", \"Pescado Rabioso\", \"Kylito Rabioso\"]\n",
    "numero_n = 4\n",
    "\n",
    "# invocamos la funcion\n",
    "output = encontrar_mayores_n(\n",
    "    lista_palabras = input_lista, \n",
    "    n = numero_n\n",
    ")\n",
    "print(output)"
   ]
  },
  {
   "cell_type": "code",
   "execution_count": 69,
   "metadata": {},
   "outputs": [
    {
     "name": "stdout",
     "output_type": "stream",
     "text": [
      "['Almendra']\n"
     ]
    }
   ],
   "source": [
    "input_lista_2 =  [\"Kylo\", \"Popo\", \"Almendra\"]\n",
    "numero_n_2 = 7\n",
    "\n",
    "# invocamos la funcion\n",
    "output_2 = encontrar_mayores_n(\n",
    "    lista_palabras = input_lista_2, \n",
    "    n = numero_n_2\n",
    ")\n",
    "print(output_2)"
   ]
  },
  {
   "cell_type": "markdown",
   "metadata": {},
   "source": [
    "### Crear una funcion que reciba 2 strings y retorne los strings concatenados"
   ]
  },
  {
   "cell_type": "code",
   "execution_count": 70,
   "metadata": {},
   "outputs": [],
   "source": [
    "def funcion_strings(string1, string2):\n",
    "    strings_concatenados = string1 + string2\n",
    "    return strings_concatenados"
   ]
  },
  {
   "cell_type": "code",
   "execution_count": 71,
   "metadata": {},
   "outputs": [
    {
     "name": "stdout",
     "output_type": "stream",
     "text": [
      "KyloPopo\n"
     ]
    }
   ],
   "source": [
    "variable_concatenados = funcion_strings(string1=\"Kylo\", string2=\"Popo\")\n",
    "\n",
    "print(variable_concatenados)"
   ]
  },
  {
   "cell_type": "markdown",
   "metadata": {},
   "source": [
    "### Crear una funcion que reciba un numero y que retorne el numero multiplicado por 10 y sumado 2"
   ]
  },
  {
   "cell_type": "code",
   "execution_count": 72,
   "metadata": {},
   "outputs": [],
   "source": [
    "def multiplica10_suma2(valor):\n",
    "    valor_total= (valor*10)+2\n",
    "    return valor_total"
   ]
  },
  {
   "cell_type": "code",
   "execution_count": 73,
   "metadata": {},
   "outputs": [
    {
     "name": "stdout",
     "output_type": "stream",
     "text": [
      "102\n"
     ]
    }
   ],
   "source": [
    "resultado_operacion = multiplica10_suma2(valor=10)\n",
    "print(resultado_operacion)"
   ]
  },
  {
   "cell_type": "markdown",
   "metadata": {},
   "source": [
    "### Crear una funcion que reciba una lista de numeros y que retorne una nueva lista donde cada elemento este multiplicado por 10 y sumado 2 "
   ]
  },
  {
   "cell_type": "code",
   "execution_count": 74,
   "metadata": {},
   "outputs": [],
   "source": [
    "\n",
    "def aplica_operacion_sobre_lista(numeros):\n",
    "    lista_vacia = []\n",
    "    for x in numeros:\n",
    "        respuesta = multiplica10_suma2(x)\n",
    "        lista_vacia.append(respuesta)\n",
    "    return lista_vacia\n"
   ]
  },
  {
   "cell_type": "code",
   "execution_count": 75,
   "metadata": {},
   "outputs": [],
   "source": [
    "lista_numeros = [2,3,4,5,6]\n",
    "\n",
    "resultado_final = aplica_operacion_sobre_lista(numeros = lista_numeros)"
   ]
  },
  {
   "cell_type": "code",
   "execution_count": 76,
   "metadata": {},
   "outputs": [
    {
     "name": "stdout",
     "output_type": "stream",
     "text": [
      "[22, 32, 42, 52, 62]\n"
     ]
    }
   ],
   "source": [
    "print(resultado_final)"
   ]
  },
  {
   "cell_type": "markdown",
   "metadata": {},
   "source": [
    "### Crear una funcion que reciba una lista de nombres y que retorne solo los que empiezan con E\n"
   ]
  },
  {
   "cell_type": "code",
   "execution_count": 77,
   "metadata": {},
   "outputs": [],
   "source": [
    "def recibir_lista_retonar_nombres_conE(nombres):\n",
    "    lista_namesE = []\n",
    "    for nombre in nombres:\n",
    "        if nombre[0] == \"E\":\n",
    "            lista_namesE.append(nombre)\n",
    "    return lista_namesE\n",
    "    \n",
    "\n",
    "    "
   ]
  },
  {
   "cell_type": "code",
   "execution_count": 78,
   "metadata": {},
   "outputs": [
    {
     "name": "stdout",
     "output_type": "stream",
     "text": [
      "['Esteban', 'Enrique', 'Eric']\n"
     ]
    }
   ],
   "source": [
    "lista_nombres = [\"Carlos\", \"Juan\", \"Esteban\", \"Enrique\", \"Eric\", \"Kylo\", \"Popo\", \"Dedo\"]\n",
    "lista_final = recibir_lista_retonar_nombres_conE(nombres = lista_nombres)\n",
    "print(lista_final)"
   ]
  },
  {
   "cell_type": "markdown",
   "metadata": {},
   "source": [
    "### Crear una funcion que identifique si una palabra es un palindromo\n"
   ]
  },
  {
   "cell_type": "code",
   "execution_count": 79,
   "metadata": {},
   "outputs": [
    {
     "name": "stdout",
     "output_type": "stream",
     "text": [
      "olyK\n"
     ]
    }
   ],
   "source": [
    "def reversa_palabra1(palabra):\n",
    "    palabra_reversa = ''\n",
    "    for indice, letra in enumerate(palabra):\n",
    "        indice_negativo = - (indice) - 1\n",
    "        letra_reversa = palabra[indice_negativo]\n",
    "        palabra_reversa = palabra_reversa + letra_reversa\n",
    "        #print(indice, letra, indice_negativo, letra_reversa)\n",
    "    return palabra_reversa\n",
    "        \n",
    "     \n",
    "palabra_reversa_final_final = reversa_palabra1(palabra = \"Kylo\")\n",
    "print(palabra_reversa_final_final)"
   ]
  },
  {
   "cell_type": "code",
   "execution_count": 80,
   "metadata": {},
   "outputs": [
    {
     "name": "stdout",
     "output_type": "stream",
     "text": [
      "False\n"
     ]
    }
   ],
   "source": [
    "def comprobar_palindromo(palabra):\n",
    "   \n",
    "    respuesta = reversa_palabra1(palabra)\n",
    "    \n",
    "    si_espalindromo = False\n",
    "\n",
    "    if palabra == respuesta:\n",
    "        si_espalindromo = True\n",
    "\n",
    "    return si_espalindromo\n",
    "    \n",
    "    \n",
    "final = comprobar_palindromo(\"kylo\") \n",
    "print(final)  \n"
   ]
  },
  {
   "cell_type": "code",
   "execution_count": 81,
   "metadata": {},
   "outputs": [
    {
     "name": "stdout",
     "output_type": "stream",
     "text": [
      "['racecar', 'arenera', 'reconocer']\n"
     ]
    }
   ],
   "source": [
    "def comprobar_palindromos_en_lista(palabras):\n",
    "    si_son_palindromos = []\n",
    "    for x in palabras:\n",
    "        palabra_palindromo = comprobar_palindromo(x) # hola -> false\n",
    "        if palabra_palindromo == True:\n",
    "            si_son_palindromos.append(x)\n",
    "\n",
    "    return si_son_palindromos\n",
    "\n",
    "es_o_no_palindromo = comprobar_palindromos_en_lista(palabras = ['Hola', 'Cao', 'racecar', 'arenera', 'reconocer'])\n",
    "print(es_o_no_palindromo)\n"
   ]
  },
  {
   "cell_type": "code",
   "execution_count": 82,
   "metadata": {},
   "outputs": [
    {
     "data": {
      "text/plain": [
       "True"
      ]
     },
     "execution_count": 82,
     "metadata": {},
     "output_type": "execute_result"
    }
   ],
   "source": [
    "palindromo = 'racecar'\n",
    "palindromo_reversa = 'racecar'\n",
    "palindromo == palindromo_reversa"
   ]
  },
  {
   "cell_type": "code",
   "execution_count": 83,
   "metadata": {},
   "outputs": [
    {
     "name": "stdout",
     "output_type": "stream",
     "text": [
      "False\n"
     ]
    }
   ],
   "source": [
    "palindromo = 'hola'\n",
    "palindromo_reversa = 'aloh'\n",
    "es_palindromo = palindromo == palindromo_reversa\n",
    "print(es_palindromo)"
   ]
  },
  {
   "cell_type": "markdown",
   "metadata": {},
   "source": [
    "### Write a python program to get the largest number of a lsit\n"
   ]
  },
  {
   "cell_type": "code",
   "execution_count": 84,
   "metadata": {},
   "outputs": [
    {
     "name": "stdout",
     "output_type": "stream",
     "text": [
      "87\n"
     ]
    }
   ],
   "source": [
    "def get_largest_number(lista_numeros):\n",
    "    max = lista_numeros[0]\n",
    "    for numero in lista_numeros:\n",
    "        if numero > max:\n",
    "            max = numero\n",
    "    return max\n",
    "\n",
    "resultado = get_largest_number([11,45,23,15,65,87,12])\n",
    "print(resultado)\n",
    "    "
   ]
  },
  {
   "cell_type": "markdown",
   "metadata": {},
   "source": [
    "### INPUTS"
   ]
  },
  {
   "cell_type": "code",
   "execution_count": 85,
   "metadata": {},
   "outputs": [
    {
     "name": "stdout",
     "output_type": "stream",
     "text": [
      "La fecha ingresada es: !\n"
     ]
    }
   ],
   "source": [
    "fecha = input(\"Por favor ingrese una fecha: \")\n",
    "print(\"La fecha ingresada es: \" + fecha +'!')"
   ]
  },
  {
   "cell_type": "markdown",
   "metadata": {},
   "source": [
    "### Escribir una función que reciba una muestra de números en una lista y devuelva su media."
   ]
  },
  {
   "cell_type": "code",
   "execution_count": 86,
   "metadata": {},
   "outputs": [
    {
     "name": "stdout",
     "output_type": "stream",
     "text": [
      "4.666666666666667\n"
     ]
    }
   ],
   "source": [
    "def devolver_media(lista):\n",
    "    \n",
    "    for x in lista:\n",
    "        suma = sum(lista)   \n",
    "\n",
    "    media = suma/len(lista)\n",
    "    return media\n",
    "\n",
    "resultado = devolver_media(lista= [2,6,8,3,1,2,7,5,8])\n",
    "print(resultado)\n",
    "        \n",
    "        \n",
    "\n"
   ]
  },
  {
   "cell_type": "markdown",
   "metadata": {},
   "source": [
    "### Validar correo electronico si tiene @"
   ]
  },
  {
   "cell_type": "code",
   "execution_count": 87,
   "metadata": {},
   "outputs": [
    {
     "name": "stdout",
     "output_type": "stream",
     "text": [
      "Su correo electronico es valido!\n",
      "Su correo electronico es: esteban.solis@085gmail.com\n"
     ]
    }
   ],
   "source": [
    "def validar_correo(correo):\n",
    "    \n",
    "    #correo_electronico = input('Ingrese su correo electronico: ')\n",
    "    \n",
    "\n",
    "    for letra in correo:\n",
    "        if letra == \"@\":\n",
    "            print('Su correo electronico es valido!')\n",
    "                 \n",
    "    return correo\n",
    "\n",
    "\n",
    "resultado = validar_correo(correo= 'esteban.solis@085gmail.com')\n",
    "print(\"Su correo electronico es:\",resultado)"
   ]
  },
  {
   "cell_type": "markdown",
   "metadata": {},
   "source": [
    "### Escribir una función que reciba un número entero positivo y devuelva su factorial.\n",
    "\n",
    "\n"
   ]
  },
  {
   "cell_type": "code",
   "execution_count": null,
   "metadata": {},
   "outputs": [],
   "source": [
    "factorial = 1\n",
    "i = 1\n",
    "    \n",
    "numero = int(input(\"Digite un numero positivo: \"))\n",
    "     \n",
    "\n",
    "while i <= numero:\n",
    "    factorial = factorial * i\n",
    "    i = i +1 \n",
    "          \n",
    "print(\"El factorial del numero es \", str(factorial) )"
   ]
  },
  {
   "cell_type": "markdown",
   "metadata": {},
   "source": [
    "### Dado un entero n, devuelve la diferencia absoluta entre n y 21, excepto que devuelve el doble de la diferencia absoluta si n es mayor que 21."
   ]
  },
  {
   "cell_type": "code",
   "execution_count": null,
   "metadata": {},
   "outputs": [
    {
     "name": "stdout",
     "output_type": "stream",
     "text": [
      "24\n"
     ]
    }
   ],
   "source": [
    "def diferencia21(n):\n",
    "  if n <= 21:\n",
    "    return 21 - n\n",
    "  else:\n",
    "    return (n - 21) * 2\n",
    "    \n",
    "resultado = diferencia21(33)\n",
    "print(resultado)"
   ]
  },
  {
   "cell_type": "markdown",
   "metadata": {},
   "source": [
    "### Dado un entero n, devuelve Verdadero si está dentro de 10 de 100 o 200. Nota: abs(num) calcula el valor absoluto de un número."
   ]
  },
  {
   "cell_type": "code",
   "execution_count": null,
   "metadata": {},
   "outputs": [
    {
     "name": "stdout",
     "output_type": "stream",
     "text": [
      "False\n",
      "None\n"
     ]
    }
   ],
   "source": [
    "def numero_cercano(n):\n",
    "    if n > 10 and n <= 200 :\n",
    "        print(True)\n",
    "    else:\n",
    "        print(False)\n",
    "\n",
    "resultado = numero_cercano(7)\n",
    "print(resultado)\n"
   ]
  },
  {
   "cell_type": "markdown",
   "metadata": {},
   "source": [
    "### Tenemos dos monos, a y b, y los parámetros a_smile y b_smile indican si cada uno está sonriendo. Estamos en problemas si ambos están sonriendo o si ninguno de ellos está sonriendo. Devuelve True si estamos en problemas."
   ]
  },
  {
   "cell_type": "code",
   "execution_count": null,
   "metadata": {},
   "outputs": [
    {
     "name": "stdout",
     "output_type": "stream",
     "text": [
      "We are in trouble Hola :D\n",
      "None\n"
     ]
    }
   ],
   "source": [
    "def monkey_trouble(a_smile, b_smile):\n",
    "    if a_smile == True and b_smile == True:  # \n",
    "        print('We are in trouble', True)\n",
    "\n",
    "    elif a_smile == False and b_smile == False:\n",
    "        print('We are in trouble', 'Hola :D')\n",
    "\n",
    "    \n",
    "    elif a_smile ==  False or b_smile == False:\n",
    "        print('We are not in trouble', False)\n",
    "\n",
    "respuesta = monkey_trouble(a_smile=False, b_smile=False)\n",
    "print(respuesta)\n",
    "    "
   ]
  },
  {
   "cell_type": "markdown",
   "metadata": {},
   "source": [
    "### Tenemos un loro que habla muy fuerte. El parámetro “hour” es la hora actual en el rango 0…23. Estamos en problemas si el loro está hablando y la hora es antes de las 7 o después de las 20. Devuelve True si estamos en problemas."
   ]
  },
  {
   "cell_type": "code",
   "execution_count": null,
   "metadata": {},
   "outputs": [
    {
     "name": "stdout",
     "output_type": "stream",
     "text": [
      "We are in trouble!\n",
      "True\n"
     ]
    }
   ],
   "source": [
    "def loro(talking, hour):\n",
    "    if hour < 7 and talking == True:\n",
    "        print('We are in trouble!')\n",
    "        return True\n",
    "\n",
    "    elif hour > 20 and talking == True:\n",
    "        print('We are in trouble!')\n",
    "        return True\n",
    "\n",
    "    else:\n",
    "        print('We are not in trouble!')\n",
    "        return False\n",
    "    \n",
    "\n",
    "resultado = loro(talking = True  , hour = 5)\n",
    "print(resultado)\n",
    "    "
   ]
  },
  {
   "cell_type": "code",
   "execution_count": null,
   "metadata": {},
   "outputs": [
    {
     "name": "stdout",
     "output_type": "stream",
     "text": [
      "We are in trouble!\n",
      "True\n"
     ]
    }
   ],
   "source": [
    "def loro(talking, hour):\n",
    "    are_in_trouble = False\n",
    "    \n",
    "    if hour < 7 and talking == True:\n",
    "        print('We are in trouble!')\n",
    "        are_in_trouble =  True\n",
    "\n",
    "    elif hour > 20 and talking == True:\n",
    "        print('We are in trouble!')\n",
    "        are_in_trouble = True\n",
    "\n",
    "    else:\n",
    "        print('We are not in trouble!')\n",
    "        are_in_trouble = False\n",
    "\n",
    "    return are_in_trouble\n",
    "    \n",
    "\n",
    "resultado = loro(talking = True  , hour = 5)\n",
    "print(resultado)\n",
    "    "
   ]
  },
  {
   "cell_type": "markdown",
   "metadata": {},
   "source": [
    "### Dado 2 valores enteros, devuelve True si uno es negativo y otro es positivo. Excepto si el parámetro “negative” es True, entonces devuelve True solo si ambos son negativos."
   ]
  },
  {
   "cell_type": "code",
   "execution_count": 103,
   "metadata": {},
   "outputs": [
    {
     "name": "stdout",
     "output_type": "stream",
     "text": [
      "True\n"
     ]
    }
   ],
   "source": [
    "def negativo (a, b, negative):\n",
    "    if a > 0 and b < 0:\n",
    "        return True\n",
    "    \n",
    "    elif a < 0 and b > 0:\n",
    "        return True\n",
    "    \n",
    "    elif a < 0 and b < 0 and negative == True:\n",
    "        return False\n",
    "    \n",
    "    \n",
    "resultado = negativo(a = -3, b = 36, negative = True)\n",
    "print(resultado)\n"
   ]
  },
  {
   "cell_type": "markdown",
   "metadata": {},
   "source": [
    "### Dada una cadena, devuelve una nueva cadena donde se intercambiaron el primer y el último carácter."
   ]
  },
  {
   "cell_type": "code",
   "execution_count": 16,
   "metadata": {},
   "outputs": [
    {
     "name": "stdout",
     "output_type": "stream",
     "text": [
      "aadenC\n"
     ]
    }
   ],
   "source": [
    "def front_back(str):\n",
    "  if len(str) <= 1:\n",
    "    return str\n",
    "  \n",
    "  mid = str[1:len(str)-1]  \n",
    "  \n",
    "  \n",
    "  return str[len(str)-1] + mid + str[0]\n",
    "\n",
    "resultado = front_back(str = \"Cadena\")\n",
    "print(resultado)"
   ]
  },
  {
   "cell_type": "markdown",
   "metadata": {},
   "source": [
    "### Dados dos valores int, devuelve su suma. A menos que los dos valores sean iguales, devolverá el doble de su suma."
   ]
  },
  {
   "cell_type": "code",
   "execution_count": 20,
   "metadata": {},
   "outputs": [
    {
     "name": "stdout",
     "output_type": "stream",
     "text": [
      "20\n"
     ]
    }
   ],
   "source": [
    "def sum_double(a, b):\n",
    "    if a != b: \n",
    "        suma = a + b\n",
    "        return suma\n",
    "\n",
    "    elif a == b:\n",
    "        suma = (a + b)*2\n",
    "        return suma\n",
    "    \n",
    "resultado = sum_double(a= 5, b= 5)\n",
    "print(resultado)\n",
    "    \n",
    "    "
   ]
  },
  {
   "cell_type": "markdown",
   "metadata": {},
   "source": [
    "### Dados 2 enteros, a y b, devuelve True si uno es 10 o si su suma es 10."
   ]
  },
  {
   "cell_type": "code",
   "execution_count": 28,
   "metadata": {},
   "outputs": [
    {
     "name": "stdout",
     "output_type": "stream",
     "text": [
      "False\n"
     ]
    }
   ],
   "source": [
    "def makes10(a, b):\n",
    "    if (a+b) == 10:\n",
    "        return True\n",
    "    elif a == 10 or b == 10:\n",
    "        return True\n",
    "    else:\n",
    "        return False\n",
    "    \n",
    "resultado = makes10(5, 2)\n",
    "print(resultado)"
   ]
  },
  {
   "cell_type": "markdown",
   "metadata": {},
   "source": [
    "### Dada una cadena, devuelve una nueva cadena donde se ha agregado \"no\" al frente. Sin embargo, si la cadena ya comienza con \"no\", devuelve la cadena sin cambios."
   ]
  },
  {
   "cell_type": "code",
   "execution_count": 36,
   "metadata": {},
   "outputs": [
    {
     "name": "stdout",
     "output_type": "stream",
     "text": [
      "nothola\n"
     ]
    }
   ],
   "source": [
    "def not_string(str):\n",
    "    if len(str) == 3 or str[0] == 'n':\n",
    "        return str\n",
    "    else:\n",
    "        return 'not' + str\n",
    "    \n",
    "resultado = not_string('hola')\n",
    "print(resultado)\n",
    "   "
   ]
  }
 ],
 "metadata": {
  "kernelspec": {
   "display_name": "python_kylo",
   "language": "python",
   "name": "python3"
  },
  "language_info": {
   "codemirror_mode": {
    "name": "ipython",
    "version": 3
   },
   "file_extension": ".py",
   "mimetype": "text/x-python",
   "name": "python",
   "nbconvert_exporter": "python",
   "pygments_lexer": "ipython3",
   "version": "3.11.6"
  }
 },
 "nbformat": 4,
 "nbformat_minor": 2
}
