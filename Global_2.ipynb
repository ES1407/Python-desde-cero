{
 "cells": [
  {
   "cell_type": "markdown",
   "metadata": {},
   "source": [
    "# Exceptions"
   ]
  },
  {
   "cell_type": "code",
   "execution_count": 6,
   "metadata": {},
   "outputs": [
    {
     "name": "stdout",
     "output_type": "stream",
     "text": [
      "Something went wrong\n"
     ]
    }
   ],
   "source": [
    "def divide_by (a, b):\n",
    "    return a/b\n",
    "\n",
    "try:\n",
    "    repsuesta = round(divide_by(40,0, 6), 2)\n",
    "    print(repsuesta)\n",
    "except ZeroDivisionError as e:\n",
    "    print(\"We cannot divide by zero!\",)    #Exception as e: sirve para que el usuario pueda ver el error \n",
    "    print(e)\n",
    "    print(e.__class__)\n",
    "except Exception as e:\n",
    "    print(\"Something went wrong\")\n",
    "\n",
    "    \n",
    "\n"
   ]
  },
  {
   "cell_type": "code",
   "execution_count": 7,
   "metadata": {},
   "outputs": [
    {
     "name": "stdout",
     "output_type": "stream",
     "text": [
      "No se pudo encontrar el archivo\n"
     ]
    }
   ],
   "source": [
    "try:\n",
    "    with open('file_does_not_exist.txt', 'r') as file:\n",
    "        print(file.read())\n",
    "except FileNotFoundError:\n",
    "    print(\"No se pudo encontrar el archivo\")"
   ]
  },
  {
   "cell_type": "markdown",
   "metadata": {},
   "source": [
    "# Manejo de Archivos"
   ]
  },
  {
   "cell_type": "code",
   "execution_count": 8,
   "metadata": {},
   "outputs": [
    {
     "name": "stdout",
     "output_type": "stream",
     "text": [
      "b'# integers\\r\\n'\n"
     ]
    }
   ],
   "source": [
    "file = open('Global.py', mode = 'rb')\n",
    "\n",
    "data = file.readline()\n",
    "\n",
    "print(data)\n",
    "\n",
    "file.close()"
   ]
  },
  {
   "cell_type": "code",
   "execution_count": 9,
   "metadata": {},
   "outputs": [],
   "source": [
    "try:\n",
    "    with open('new_file.txt', 'w') as file:\n",
    "        file.writelines(['\\nEste es un nuevo archivo creado', '\\nEste es otro archivo'])\n",
    "\n",
    "except FileNotFoundError as e:\n",
    "    print(\"The file has not found!\", e)\n",
    "    "
   ]
  },
  {
   "cell_type": "code",
   "execution_count": 10,
   "metadata": {},
   "outputs": [
    {
     "name": "stdout",
     "output_type": "stream",
     "text": [
      "\n",
      "Este es un nuevo archivo creado\n",
      "Este es\n"
     ]
    }
   ],
   "source": [
    "with open('new_file.txt', 'r') as file:\n",
    "    print(file.read(40))\n",
    "\n"
   ]
  },
  {
   "cell_type": "code",
   "execution_count": 11,
   "metadata": {},
   "outputs": [
    {
     "name": "stdout",
     "output_type": "stream",
     "text": [
      "\n",
      "Este es un nuevo archivo creado\n",
      "Este es\n"
     ]
    }
   ],
   "source": [
    "file_name = 'new_file.txt'\n",
    "with open(file_name, 'r') as archivo:\n",
    "    print(archivo.read(40))"
   ]
  },
  {
   "cell_type": "code",
   "execution_count": 15,
   "metadata": {},
   "outputs": [],
   "source": [
    "def suma(x, y):\n",
    "    suma = 3 + 2\n",
    "    return suma"
   ]
  },
  {
   "cell_type": "code",
   "execution_count": null,
   "metadata": {},
   "outputs": [],
   "source": [
    "suma(7, 3)"
   ]
  },
  {
   "cell_type": "code",
   "execution_count": 38,
   "metadata": {},
   "outputs": [
    {
     "name": "stdout",
     "output_type": "stream",
     "text": [
      "['\\n', 'Este es un nuevo archivo creado\\n', 'Este es otro archivo']\n"
     ]
    }
   ],
   "source": [
    "with open('new_file.txt', 'r') as file:\n",
    "    print(file.readlines())"
   ]
  },
  {
   "cell_type": "markdown",
   "metadata": {},
   "source": [
    "# Ejercicios Noob\n"
   ]
  },
  {
   "cell_type": "code",
   "execution_count": 13,
   "metadata": {},
   "outputs": [
    {
     "name": "stdout",
     "output_type": "stream",
     "text": [
      "-5\n"
     ]
    }
   ],
   "source": [
    "# Write a Python program to sum all the items in a list\n",
    "\n",
    "def lista(numeros):\n",
    "    sumas = 0\n",
    "    for x in numeros:\n",
    "        sumas += x\n",
    "\n",
    "    return sumas\n",
    "\n",
    "print(lista([1,2,-8]))\n"
   ]
  },
  {
   "cell_type": "code",
   "execution_count": 25,
   "metadata": {},
   "outputs": [
    {
     "name": "stdout",
     "output_type": "stream",
     "text": [
      "6\n"
     ]
    }
   ],
   "source": [
    "# Write a Python program to multiply all the items in a list\n",
    "\n",
    "def lista(datos):\n",
    "    multiplicacion = 1\n",
    "    for x in datos:\n",
    "        multiplicacion *= x\n",
    "    return multiplicacion\n",
    "\n",
    "print(lista([1,2,3]))"
   ]
  },
  {
   "cell_type": "code",
   "execution_count": 32,
   "metadata": {},
   "outputs": [
    {
     "name": "stdout",
     "output_type": "stream",
     "text": [
      "26\n"
     ]
    }
   ],
   "source": [
    "# Write a Python program to get the largest number from a list.\n",
    "\n",
    "def lista(datos_numericos):\n",
    "    max = datos_numericos[0]\n",
    "    for x in datos_numericos:\n",
    "        if x > max:\n",
    "            max = x\n",
    "    return max \n",
    "\n",
    "print(lista([1,2,3,4,5,4,3,26,17,1,2,3,5]))\n",
    "\n"
   ]
  },
  {
   "cell_type": "code",
   "execution_count": 35,
   "metadata": {},
   "outputs": [
    {
     "name": "stdout",
     "output_type": "stream",
     "text": [
      "1\n"
     ]
    }
   ],
   "source": [
    "# Write a Python program to get the smallest number from a list.\n",
    "\n",
    "def lista(datos2):\n",
    "    min = datos2[0]\n",
    "    for x in datos2:\n",
    "        if x < min:\n",
    "            min = x\n",
    "    return min\n",
    "print(lista([1,2,3,4,5,4,3,26,17,1,2,3,5]))\n"
   ]
  },
  {
   "cell_type": "code",
   "execution_count": 4,
   "metadata": {},
   "outputs": [
    {
     "name": "stdout",
     "output_type": "stream",
     "text": [
      "La puntuacion de la clase es: 20\n"
     ]
    }
   ],
   "source": [
    "# Hacer un programa que calcule la media de las notas de todos los estudiantes de un curso\n",
    "\n",
    "suma = 7 + 4 + 6 + 3\n",
    "media = suma / \n",
    "\n",
    "\n",
    "\n",
    "print(\"La puntuacion de la clase es:\",suma)\n"
   ]
  },
  {
   "cell_type": "code",
   "execution_count": 13,
   "metadata": {},
   "outputs": [
    {
     "name": "stdout",
     "output_type": "stream",
     "text": [
      "h\n",
      "o\n",
      "l\n",
      "a\n",
      " \n",
      "p\n",
      "o\n",
      "p\n",
      "o\n",
      " \n",
      "\n",
      "\n",
      "kylo final\n",
      "hola popo \n",
      "\n"
     ]
    }
   ],
   "source": [
    "nose = 'hola popo \\n popop muno \\n  kylo \\n popo'\n",
    "stringpopo = ''\n",
    "for caracter in nose:\n",
    "    stringpopo = stringpopo + caracter\n",
    "    print(caracter)\n",
    "    if caracter == \"\\n\":\n",
    "        print(\"kylo final\")\n",
    "        break\n",
    "\n",
    "print(stringpopo)"
   ]
  },
  {
   "cell_type": "code",
   "execution_count": 37,
   "metadata": {},
   "outputs": [
    {
     "name": "stdout",
     "output_type": "stream",
     "text": [
      "False\n"
     ]
    }
   ],
   "source": [
    "def isPalindrome(str):\n",
    "    startIndex = 0\n",
    "    endIndex = len(str) - 1\n",
    "    for x in str:\n",
    "        if str[startIndex] != str[endIndex]:\n",
    "            return False\n",
    "    return True\n",
    "\n",
    "print(isPalindrome(\"racecars\"))\n"
   ]
  },
  {
   "cell_type": "code",
   "execution_count": 5,
   "metadata": {},
   "outputs": [],
   "source": [
    "lista_nombres = [\"kylo\", \"chavo\", \"luis\", \"quico\"]"
   ]
  },
  {
   "cell_type": "code",
   "execution_count": 12,
   "metadata": {},
   "outputs": [
    {
     "data": {
      "text/plain": [
       "'kylo'"
      ]
     },
     "execution_count": 12,
     "metadata": {},
     "output_type": "execute_result"
    }
   ],
   "source": [
    "lista_nombres[-4]"
   ]
  },
  {
   "cell_type": "code",
   "execution_count": null,
   "metadata": {},
   "outputs": [],
   "source": []
  },
  {
   "cell_type": "markdown",
   "metadata": {},
   "source": [
    "# Funciones Puras \n"
   ]
  },
  {
   "cell_type": "code",
   "execution_count": 7,
   "metadata": {},
   "outputs": [
    {
     "name": "stdout",
     "output_type": "stream",
     "text": [
      "[1, 2, 3]\n",
      "Nueva lista:  [1, 2, 3, 5]\n"
     ]
    }
   ],
   "source": [
    "mi_lista = [1, 2, 3]\n",
    "\n",
    "def add_to_list(lst, item):\n",
    "    nl = lst.copy()\n",
    "    nl.append(item)\n",
    "    return nl\n",
    "\n",
    "new_list = add_to_list(mi_lista, 5)\n",
    "\n",
    "print(mi_lista)  \n",
    "print(\"Nueva lista: \", new_list)  "
   ]
  },
  {
   "cell_type": "markdown",
   "metadata": {},
   "source": [
    "# Recursividad \n"
   ]
  },
  {
   "cell_type": "code",
   "execution_count": 10,
   "metadata": {},
   "outputs": [
    {
     "name": "stdout",
     "output_type": "stream",
     "text": [
      "1\n"
     ]
    }
   ],
   "source": [
    "def econtrar_factorial(n):\n",
    "    if n == 1:\n",
    "        return 1\n",
    "    else:\n",
    "        return n * econtrar_factorial(n - 1)\n",
    "    \n",
    "print(econtrar_factorial(1))"
   ]
  },
  {
   "cell_type": "markdown",
   "metadata": {},
   "source": [
    "# How to revert a string"
   ]
  },
  {
   "cell_type": "code",
   "execution_count": 11,
   "metadata": {},
   "outputs": [
    {
     "name": "stdout",
     "output_type": "stream",
     "text": [
      "orp le otilyK\n"
     ]
    }
   ],
   "source": [
    "#str[start:stop:step]\n",
    "\n",
    "trial = 'Kylito el pro'\n",
    "new_trial=trial[::-1]\n",
    "print(new_trial)"
   ]
  },
  {
   "cell_type": "code",
   "execution_count": 12,
   "metadata": {},
   "outputs": [
    {
     "name": "stdout",
     "output_type": "stream",
     "text": [
      "orp le otilyK\n"
     ]
    }
   ],
   "source": [
    "def string_reverso(str):\n",
    "    if len(str) == 0:\n",
    "        return str\n",
    "    else:\n",
    "        return string_reverso(str[1:]) + str[0]\n",
    "    \n",
    "str = \"Kylito el pro\"\n",
    "reverse = string_reverso(str)\n",
    "print(reverse)"
   ]
  },
  {
   "cell_type": "markdown",
   "metadata": {},
   "source": [
    "# Maps and Filters"
   ]
  },
  {
   "cell_type": "code",
   "execution_count": 16,
   "metadata": {},
   "outputs": [
    {
     "name": "stdout",
     "output_type": "stream",
     "text": [
      "<map object at 0x00000173B993E290>\n",
      "None\n",
      "capucciono\n",
      "cortado\n",
      "None\n",
      "None\n",
      "<filter object at 0x00000173B993DED0>\n",
      "capucciono\n",
      "cortado\n"
     ]
    }
   ],
   "source": [
    "menu = [\"expreso\", \"capucciono\", \"cortado\", \"americano\", \"iced\"]\n",
    "\n",
    "def find_coffe(coffee):\n",
    "    if coffee[0] == \"c\":\n",
    "        return coffee\n",
    "    \n",
    "map_coffe = map(find_coffe, menu)\n",
    "print(map_coffe)\n",
    "for x in map_coffe:\n",
    "    print(x)\n",
    "\n",
    "filter_coffe = filter(find_coffe, menu)\n",
    "print(filter_coffe)\n",
    "for  x in filter_coffe:\n",
    "    print(x)"
   ]
  },
  {
   "cell_type": "markdown",
   "metadata": {},
   "source": [
    "# Funciones sin parametros:"
   ]
  },
  {
   "cell_type": "code",
   "execution_count": 2,
   "metadata": {},
   "outputs": [
    {
     "name": "stdout",
     "output_type": "stream",
     "text": [
      "Huevito revuelto\n",
      "Atun en agua\n",
      "Comer cesped\n"
     ]
    }
   ],
   "source": [
    "def kylito_essentials():\n",
    "    print(\"Huevito revuelto\")       # Son las cosas que quiero que pasen dentro de kylito_essentials\n",
    "    print(\"Atun en agua\")           #\n",
    "    print(\"Comer cesped\")           #\n",
    "\n",
    "kylito_essentials()                 # So al llamar a la funcion devuelve lo que esta dentro"
   ]
  },
  {
   "cell_type": "markdown",
   "metadata": {},
   "source": [
    "# Funciones con parametros:"
   ]
  },
  {
   "cell_type": "code",
   "execution_count": 21,
   "metadata": {},
   "outputs": [
    {
     "name": "stdout",
     "output_type": "stream",
     "text": [
      "El Kylit0 ya esta viejito\n"
     ]
    }
   ],
   "source": [
    "def edadkylo():\n",
    "    print(\"El Kylit0 ya esta viejito\")\n",
    "\n",
    "def menoriakylo():\n",
    "    print(\"Aun es un bebe\")\n",
    "\n",
    "def kylito_essentials2(edad):\n",
    "    if edad >= 4:\n",
    "        edadkylo()\n",
    "    else:\n",
    "        menoriakylo\n",
    "\n",
    "kylito_essentials2(5)\n",
    "    \n"
   ]
  },
  {
   "cell_type": "markdown",
   "metadata": {},
   "source": [
    "# Funciones con paramentros opcionales"
   ]
  },
  {
   "cell_type": "code",
   "execution_count": 28,
   "metadata": {},
   "outputs": [
    {
     "name": "stdout",
     "output_type": "stream",
     "text": [
      "Segun la edad de X:\n",
      "Aun es un bebe\n",
      "Segun la edad de Kylito:\n",
      "El Perrito ya esta viejito\n"
     ]
    }
   ],
   "source": [
    "def edadkylo():\n",
    "    print(\"El Perrito ya esta viejito\")\n",
    "\n",
    "def menoriakylo():\n",
    "    print(\"Aun es un bebe\")\n",
    "\n",
    "def kylito_essentials2(edad, nombre = 'X'):\n",
    "    print(f\"Segun la edad de {nombre}:\")\n",
    "    if edad >= 4:\n",
    "        edadkylo()\n",
    "    else:\n",
    "        menoriakylo()\n",
    "\n",
    "kylito_essentials2(3)\n",
    "kylito_essentials2(5, \"Kylito\")\n",
    "\n",
    "    "
   ]
  }
 ],
 "metadata": {
  "kernelspec": {
   "display_name": "python_kylo",
   "language": "python",
   "name": "python3"
  },
  "language_info": {
   "codemirror_mode": {
    "name": "ipython",
    "version": 3
   },
   "file_extension": ".py",
   "mimetype": "text/x-python",
   "name": "python",
   "nbconvert_exporter": "python",
   "pygments_lexer": "ipython3",
   "version": "3.11.6"
  }
 },
 "nbformat": 4,
 "nbformat_minor": 2
}
